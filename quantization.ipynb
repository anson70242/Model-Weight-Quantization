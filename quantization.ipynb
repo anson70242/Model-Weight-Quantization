{
 "cells": [
  {
   "cell_type": "markdown",
   "metadata": {},
   "source": [
    "## Quantization"
   ]
  },
  {
   "cell_type": "code",
   "execution_count": 60,
   "metadata": {},
   "outputs": [
    {
     "name": "stdout",
     "output_type": "stream",
     "text": [
      "[152.98 -48.35   0.     7.34  -2.44  60.55  38.53 119.43 103.6   91.79\n",
      "  60.63  93.17 140.03  59.53  90.75  44.96  48.01 121.78 -42.51 137.09]\n"
     ]
    }
   ],
   "source": [
    "import numpy as np\n",
    "\n",
    "params = np.random.uniform(low=-50, high=150, size=20)\n",
    "\n",
    "params[0] = weights.max() + 1\n",
    "params[1] = weights.min() - 1\n",
    "params[2] = 0\n",
    "\n",
    "params = np.round(params, 2)\n",
    "\n",
    "print(params)"
   ]
  },
  {
   "cell_type": "markdown",
   "metadata": {},
   "source": [
    "### Quantization Methods"
   ]
  },
  {
   "cell_type": "code",
   "execution_count": 75,
   "metadata": {},
   "outputs": [],
   "source": [
    "def clamp(params_q: np.array, lower_bound: int, upper_bound: int) -> np.array:\n",
    "    params_q[params_q < lower_bound] = lower_bound\n",
    "    params_q[params_q > upper_bound] = upper_bound\n",
    "    return params_q\n",
    "\n",
    "def asymmetric_quantization(params: np.array, bits: int) -> tuple[np.array, float, int]:\n",
    "    # Calculate scale and zero point\n",
    "    alpha = np.max(params)\n",
    "    beta = np.min(params)\n",
    "    scale = (alpha - beta) / (2**bits - 1)\n",
    "    zero = -1 * np.round(beta / scale)\n",
    "    lower_bound = 0\n",
    "    upper_bound = 2**bits - 1\n",
    "    # Quantize the params\n",
    "    quantized = clamp(np.round(params / scale) + zero, lower_bound, upper_bound).astype(np.int32)\n",
    "    return quantized, scale, zero\n",
    "\n",
    "def symmetric_quantization(params: np.array, bits: int) -> tuple[np.array, float]:\n",
    "    # Calculate scale\n",
    "    alpha = np.max(params)\n",
    "    scale = np.abs(alpha) / (2**(bits-1) - 1)\n",
    "    lower_bound = -2**(bits - 1)\n",
    "    upper_bound = 2**(bits - 1) - 1\n",
    "    # Quantize the params\n",
    "    quantized = clamp(np.round(params / scale), lower_bound, upper_bound).astype(np.int32)\n",
    "    return quantized, scale\n",
    "\n",
    "def asymmetric_dequantize(params_q: np.array, scale: float, zero: int) -> np.array:\n",
    "    return (params_q - zero) * scale\n",
    "\n",
    "def symmetric_dequantize(params_q: np.array, scale: float) -> np.array:\n",
    "    return params_q * scale\n",
    "\n",
    "def quantization_error(params: np.array, params_q: np.array):\n",
    "    # MSE\n",
    "    return np.mean((params - params_q) ** 2)"
   ]
  },
  {
   "cell_type": "markdown",
   "metadata": {},
   "source": [
    "## Quantize"
   ]
  },
  {
   "cell_type": "code",
   "execution_count": 73,
   "metadata": {},
   "outputs": [
    {
     "name": "stdout",
     "output_type": "stream",
     "text": [
      "Orginal: \n",
      "[152.98 -48.35   0.     7.34  -2.44  60.55  38.53 119.43 103.6   91.79\n",
      "  60.63  93.17 140.03  59.53  90.75  44.96  48.01 121.78 -42.51 137.09]\n",
      "\n",
      "Asymmetric s: 0.7895294117647058, z:61.0\n",
      "[255   0  61  70  58 138 110 212 192 177 138 179 238 136 176 118 122 215\n",
      "   7 235]\n",
      "\n",
      "\n",
      "Symmetric s: 1.204566929133858\n",
      "[127 -40   0   6  -2  50  32  99  86  76  50  77 116  49  75  37  40 101\n",
      " -35 114]\n"
     ]
    }
   ],
   "source": [
    "(asymmetric_q, asymmetric_scale, asymmetric_zero) = asymmetric_quantization(params, 8)\n",
    "(symmetric_q, symmetric_scale) = symmetric_quantization(params, 8)\n",
    "\n",
    "print(\"Orginal: \")\n",
    "print(params)\n",
    "print()\n",
    "print(f\"Asymmetric s: {asymmetric_scale}, z:{asymmetric_zero}\")\n",
    "print(asymmetric_q)\n",
    "print()\n",
    "print()\n",
    "print(f\"Symmetric s: {symmetric_scale}\")\n",
    "print(symmetric_q)"
   ]
  },
  {
   "cell_type": "markdown",
   "metadata": {},
   "source": [
    "## Dequantize"
   ]
  },
  {
   "cell_type": "code",
   "execution_count": 77,
   "metadata": {},
   "outputs": [
    {
     "name": "stdout",
     "output_type": "stream",
     "text": [
      "Orginal: \n",
      "[152.98 -48.35   0.     7.34  -2.44  60.55  38.53 119.43 103.6   91.79\n",
      "  60.63  93.17 140.03  59.53  90.75  44.96  48.01 121.78 -42.51 137.09]\n",
      "\n",
      "Dequantized Asymmetric:\n",
      "[153.17 -48.16   0.     7.11  -2.37  60.79  38.69 119.22 103.43  91.59\n",
      "  60.79  93.16 139.75  59.21  90.8   45.    48.16 121.59 -42.63 137.38]\n",
      "\n",
      "\n",
      "Dequantized Symmetric:\n",
      "[152.98 -48.18   0.     7.23  -2.41  60.23  38.55 119.25 103.59  91.55\n",
      "  60.23  92.75 139.73  59.02  90.34  44.57  48.18 121.66 -42.16 137.32]\n"
     ]
    }
   ],
   "source": [
    "params_deq_asymmetric = asymmetric_dequantize(asymmetric_q, asymmetric_scale, asymmetric_zero)\n",
    "params_deq_symmetric  = symmetric_dequantize(symmetric_q, symmetric_scale)\n",
    "\n",
    "print(\"Orginal: \")\n",
    "print(params)\n",
    "print()\n",
    "print(f\"Dequantized Asymmetric:\")\n",
    "print(np.round(params_deq_asymmetric, 2))\n",
    "print()\n",
    "print()\n",
    "print(f\"Dequantized Symmetric:\")\n",
    "print(np.round(params_deq_symmetric, 2))"
   ]
  },
  {
   "cell_type": "markdown",
   "metadata": {},
   "source": [
    "## Check Error"
   ]
  },
  {
   "cell_type": "code",
   "execution_count": 85,
   "metadata": {},
   "outputs": [
    {
     "name": "stdout",
     "output_type": "stream",
     "text": [
      "  Asymmetric Error: 0.04\n",
      "   Symmetric Error: 0.07\n"
     ]
    }
   ],
   "source": [
    "print(f'{\"Asymmetric Error: \":>20}{np.round(quantization_error(params, params_deq_asymmetric), 2)}')\n",
    "print(f'{\"Symmetric Error: \":>20}{np.round(quantization_error(params, params_deq_symmetric), 2)}')"
   ]
  }
 ],
 "metadata": {
  "kernelspec": {
   "display_name": "base",
   "language": "python",
   "name": "python3"
  },
  "language_info": {
   "codemirror_mode": {
    "name": "ipython",
    "version": 3
   },
   "file_extension": ".py",
   "mimetype": "text/x-python",
   "name": "python",
   "nbconvert_exporter": "python",
   "pygments_lexer": "ipython3",
   "version": "3.11.5"
  }
 },
 "nbformat": 4,
 "nbformat_minor": 2
}
